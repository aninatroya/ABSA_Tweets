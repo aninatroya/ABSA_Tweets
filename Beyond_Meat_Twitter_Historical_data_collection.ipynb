{
  "nbformat": 4,
  "nbformat_minor": 0,
  "metadata": {
    "colab": {
      "name": "Beyond Meat Twitter Historical data collection.ipynb",
      "provenance": [],
      "include_colab_link": true
    },
    "kernelspec": {
      "name": "python3",
      "display_name": "Python 3"
    }
  },
  "cells": [
    {
      "cell_type": "markdown",
      "metadata": {
        "id": "view-in-github",
        "colab_type": "text"
      },
      "source": [
        "<a href=\"https://colab.research.google.com/github/aninatroya/ABSA_Tweets/blob/main/Beyond_Meat_Twitter_Historical_data_collection.ipynb\" target=\"_parent\"><img src=\"https://colab.research.google.com/assets/colab-badge.svg\" alt=\"Open In Colab\"/></a>"
      ]
    },
    {
      "cell_type": "markdown",
      "metadata": {
        "id": "vz314OmFAVb-"
      },
      "source": [
        "# Start here"
      ]
    },
    {
      "cell_type": "code",
      "metadata": {
        "colab": {
          "base_uri": "https://localhost:8080/",
          "height": 409
        },
        "id": "wZcVVSyrEDN6",
        "outputId": "6f1fc578-b532-4440-d3b2-692df4443f8f"
      },
      "source": [
        "! pip install tweepy --upgrade"
      ],
      "execution_count": null,
      "outputs": [
        {
          "output_type": "stream",
          "text": [
            "Collecting tweepy\n",
            "  Downloading https://files.pythonhosted.org/packages/bb/7c/99d51f80f3b77b107ebae2634108717362c059a41384a1810d13e2429a81/tweepy-3.9.0-py2.py3-none-any.whl\n",
            "Requirement already satisfied, skipping upgrade: requests[socks]>=2.11.1 in /usr/local/lib/python3.6/dist-packages (from tweepy) (2.23.0)\n",
            "Requirement already satisfied, skipping upgrade: six>=1.10.0 in /usr/local/lib/python3.6/dist-packages (from tweepy) (1.15.0)\n",
            "Requirement already satisfied, skipping upgrade: requests-oauthlib>=0.7.0 in /usr/local/lib/python3.6/dist-packages (from tweepy) (1.3.0)\n",
            "Requirement already satisfied, skipping upgrade: urllib3!=1.25.0,!=1.25.1,<1.26,>=1.21.1 in /usr/local/lib/python3.6/dist-packages (from requests[socks]>=2.11.1->tweepy) (1.24.3)\n",
            "Requirement already satisfied, skipping upgrade: idna<3,>=2.5 in /usr/local/lib/python3.6/dist-packages (from requests[socks]>=2.11.1->tweepy) (2.10)\n",
            "Requirement already satisfied, skipping upgrade: chardet<4,>=3.0.2 in /usr/local/lib/python3.6/dist-packages (from requests[socks]>=2.11.1->tweepy) (3.0.4)\n",
            "Requirement already satisfied, skipping upgrade: certifi>=2017.4.17 in /usr/local/lib/python3.6/dist-packages (from requests[socks]>=2.11.1->tweepy) (2020.11.8)\n",
            "Requirement already satisfied, skipping upgrade: PySocks!=1.5.7,>=1.5.6; extra == \"socks\" in /usr/local/lib/python3.6/dist-packages (from requests[socks]>=2.11.1->tweepy) (1.7.1)\n",
            "Requirement already satisfied, skipping upgrade: oauthlib>=3.0.0 in /usr/local/lib/python3.6/dist-packages (from requests-oauthlib>=0.7.0->tweepy) (3.1.0)\n",
            "Installing collected packages: tweepy\n",
            "  Found existing installation: tweepy 3.6.0\n",
            "    Uninstalling tweepy-3.6.0:\n",
            "      Successfully uninstalled tweepy-3.6.0\n",
            "Successfully installed tweepy-3.9.0\n"
          ],
          "name": "stdout"
        },
        {
          "output_type": "display_data",
          "data": {
            "application/vnd.colab-display-data+json": {
              "pip_warning": {
                "packages": [
                  "tweepy"
                ]
              }
            }
          },
          "metadata": {
            "tags": []
          }
        }
      ]
    },
    {
      "cell_type": "code",
      "metadata": {
        "colab": {
          "base_uri": "https://localhost:8080/"
        },
        "id": "xuDhaKMf1mYK",
        "outputId": "b2b6b5d4-7ec1-4841-8ee9-8cc0d5463324"
      },
      "source": [
        "! pip3 install snscrape"
      ],
      "execution_count": null,
      "outputs": [
        {
          "output_type": "stream",
          "text": [
            "Requirement already satisfied: snscrape in /usr/local/lib/python3.6/dist-packages (0.3.4)\n",
            "Requirement already satisfied: beautifulsoup4 in /usr/local/lib/python3.6/dist-packages (from snscrape) (4.6.3)\n",
            "Requirement already satisfied: requests[socks] in /usr/local/lib/python3.6/dist-packages (from snscrape) (2.23.0)\n",
            "Requirement already satisfied: lxml in /usr/local/lib/python3.6/dist-packages (from snscrape) (4.2.6)\n",
            "Requirement already satisfied: chardet<4,>=3.0.2 in /usr/local/lib/python3.6/dist-packages (from requests[socks]->snscrape) (3.0.4)\n",
            "Requirement already satisfied: idna<3,>=2.5 in /usr/local/lib/python3.6/dist-packages (from requests[socks]->snscrape) (2.10)\n",
            "Requirement already satisfied: urllib3!=1.25.0,!=1.25.1,<1.26,>=1.21.1 in /usr/local/lib/python3.6/dist-packages (from requests[socks]->snscrape) (1.24.3)\n",
            "Requirement already satisfied: certifi>=2017.4.17 in /usr/local/lib/python3.6/dist-packages (from requests[socks]->snscrape) (2020.11.8)\n",
            "Requirement already satisfied: PySocks!=1.5.7,>=1.5.6; extra == \"socks\" in /usr/local/lib/python3.6/dist-packages (from requests[socks]->snscrape) (1.7.1)\n"
          ],
          "name": "stdout"
        }
      ]
    },
    {
      "cell_type": "markdown",
      "metadata": {
        "id": "MWCn_tJ5H6jk"
      },
      "source": [
        "### Links:\n",
        "- [Historical data twitter issue](https://www.researchgate.net/post/How-to-get-twitter-historical-data)\n",
        "- https://github.com/JustAnotherArchivist/snscrape\n",
        "- https://developer.twitter.com/en/docs/twitter-api/v1/tweets/post-and-engage/api-reference/get-statuses-lookup"
      ]
    },
    {
      "cell_type": "code",
      "metadata": {
        "id": "egMWUPtdAhVC"
      },
      "source": [
        "! snscrape twitter-search \"#BeyondMeat since:2019-01-01 until:2019-06-15\" > beyondmeet_tweets.txt"
      ],
      "execution_count": null,
      "outputs": []
    },
    {
      "cell_type": "code",
      "metadata": {
        "id": "LyGINF76A4mJ"
      },
      "source": [
        "import pandas as pd, tweepy"
      ],
      "execution_count": null,
      "outputs": []
    },
    {
      "cell_type": "code",
      "metadata": {
        "id": "wPNi4dO-BLh2"
      },
      "source": [
        "#Credential variables \n",
        "ACCESS_TOKEN= '...'\n",
        "ACCESS_TOKEN_SECRET = '...'\n",
        "CONSUMER_KEY = '...'  \n",
        "CONSUMER_SECRET = '...'\n",
        "\n",
        "auth = tweepy.OAuthHandler(CONSUMER_KEY, CONSUMER_SECRET) \n",
        "auth.set_access_token(ACCESS_TOKEN, ACCESS_TOKEN_SECRET)\n",
        "api = tweepy.API(auth)"
      ],
      "execution_count": null,
      "outputs": []
    },
    {
      "cell_type": "code",
      "metadata": {
        "colab": {
          "base_uri": "https://localhost:8080/",
          "height": 194
        },
        "id": "RoCDhMZjCrFG",
        "outputId": "45c14aa0-561b-46b2-8ede-1115de4be5f1"
      },
      "source": [
        "tweet_url = pd.read_csv(\"beyondmeet_tweets.txt\", index_col= None, header = None, names = [\"links\"])\n",
        "tweet_url.head()"
      ],
      "execution_count": null,
      "outputs": [
        {
          "output_type": "execute_result",
          "data": {
            "text/html": [
              "<div>\n",
              "<style scoped>\n",
              "    .dataframe tbody tr th:only-of-type {\n",
              "        vertical-align: middle;\n",
              "    }\n",
              "\n",
              "    .dataframe tbody tr th {\n",
              "        vertical-align: top;\n",
              "    }\n",
              "\n",
              "    .dataframe thead th {\n",
              "        text-align: right;\n",
              "    }\n",
              "</style>\n",
              "<table border=\"1\" class=\"dataframe\">\n",
              "  <thead>\n",
              "    <tr style=\"text-align: right;\">\n",
              "      <th></th>\n",
              "      <th>links</th>\n",
              "    </tr>\n",
              "  </thead>\n",
              "  <tbody>\n",
              "    <tr>\n",
              "      <th>0</th>\n",
              "      <td>https://twitter.com/ChronosCap/status/11396796...</td>\n",
              "    </tr>\n",
              "    <tr>\n",
              "      <th>1</th>\n",
              "      <td>https://twitter.com/LenovoLegion/status/130158...</td>\n",
              "    </tr>\n",
              "    <tr>\n",
              "      <th>2</th>\n",
              "      <td>https://twitter.com/Celestialvegan/status/1139...</td>\n",
              "    </tr>\n",
              "    <tr>\n",
              "      <th>3</th>\n",
              "      <td>https://twitter.com/daswarkeinhuhn/status/1139...</td>\n",
              "    </tr>\n",
              "    <tr>\n",
              "      <th>4</th>\n",
              "      <td>https://twitter.com/jmartin795/status/11396675...</td>\n",
              "    </tr>\n",
              "  </tbody>\n",
              "</table>\n",
              "</div>"
            ],
            "text/plain": [
              "                                               links\n",
              "0  https://twitter.com/ChronosCap/status/11396796...\n",
              "1  https://twitter.com/LenovoLegion/status/130158...\n",
              "2  https://twitter.com/Celestialvegan/status/1139...\n",
              "3  https://twitter.com/daswarkeinhuhn/status/1139...\n",
              "4  https://twitter.com/jmartin795/status/11396675..."
            ]
          },
          "metadata": {
            "tags": []
          },
          "execution_count": 12
        }
      ]
    },
    {
      "cell_type": "code",
      "metadata": {
        "colab": {
          "base_uri": "https://localhost:8080/"
        },
        "id": "armNnTQxKzLR",
        "outputId": "babde2c3-07a4-4de0-b952-d6fc95672987"
      },
      "source": [
        "tweet_url.shape"
      ],
      "execution_count": null,
      "outputs": [
        {
          "output_type": "execute_result",
          "data": {
            "text/plain": [
              "(5170, 1)"
            ]
          },
          "metadata": {
            "tags": []
          },
          "execution_count": 14
        }
      ]
    },
    {
      "cell_type": "code",
      "metadata": {
        "id": "ODQ7H5Y9DT9s"
      },
      "source": [
        "# For every element x , select x[\"links\"],\n",
        "# then split it by (\"/\"), and save the last part of the split\n",
        "### Definition of lambda expression\n",
        "af = lambda x: x[\"links\"].split(\"/\")[-1]\n",
        "### Application of the lmabda on the datat\n",
        "tweet_url['id'] = tweet_url.apply(af, axis=1)"
      ],
      "execution_count": null,
      "outputs": []
    },
    {
      "cell_type": "code",
      "metadata": {
        "id": "QrMx5kJ_DYSV"
      },
      "source": [
        "ids = tweet_url['id'].tolist()"
      ],
      "execution_count": null,
      "outputs": []
    },
    {
      "cell_type": "code",
      "metadata": {
        "id": "_T_q-c7iDbsi"
      },
      "source": [
        "total_count = len(ids)\n",
        "chunks = (total_count - 1) // 50 + 1"
      ],
      "execution_count": null,
      "outputs": []
    },
    {
      "cell_type": "code",
      "metadata": {
        "colab": {
          "base_uri": "https://localhost:8080/"
        },
        "id": "II7LG77SMaia",
        "outputId": "b8227dc8-9a6c-4970-8fb7-0f7ae2e418d7"
      },
      "source": [
        "total_count"
      ],
      "execution_count": null,
      "outputs": [
        {
          "output_type": "execute_result",
          "data": {
            "text/plain": [
              "5170"
            ]
          },
          "metadata": {
            "tags": []
          },
          "execution_count": 23
        }
      ]
    },
    {
      "cell_type": "code",
      "metadata": {
        "id": "dgT81iJjDfJJ"
      },
      "source": [
        "def fetch_tw(ids):\n",
        "    # looking up a list of statues (Tweets) on the API\n",
        "    list_of_tw_status = api.statuses_lookup(ids, tweet_mode= \"extended\")\n",
        "    empty_data = pd.DataFrame()\n",
        "    for status in list_of_tw_status:\n",
        "            tweet_elem = {\"tweet_id\": status.id,\n",
        "                     \"screen_name\": status.user.screen_name,\n",
        "                     \"tweet\":status.full_text,\n",
        "                     \"date\":status.created_at,\n",
        "                     \"user_location\": status.user.location, \n",
        "                     \"hashtags\": status.entities.hashtags}\n",
        "            # You can add more attributes.....\n",
        "            empty_data = empty_data.append(tweet_elem, ignore_index = True)\n",
        "    empty_data.to_csv(\"beyondmeat_tweets.csv\", mode=\"a\")"
      ],
      "execution_count": null,
      "outputs": []
    },
    {
      "cell_type": "code",
      "metadata": {
        "id": "ZaOnF3E-D_z7"
      },
      "source": [
        "for i in range(chunks):\n",
        "        batch = ids[i*50:(i+1)*50]\n",
        "        result = fetch_tw(batch)"
      ],
      "execution_count": null,
      "outputs": []
    },
    {
      "cell_type": "code",
      "metadata": {
        "colab": {
          "base_uri": "https://localhost:8080/",
          "height": 399
        },
        "id": "_i7yvO5iEkss",
        "outputId": "72c6a80d-f8a8-4925-ecbd-4efde5f3df6c"
      },
      "source": [
        "pd.read_csv(\"beyondmeat_tweets.csv\")"
      ],
      "execution_count": null,
      "outputs": [
        {
          "output_type": "execute_result",
          "data": {
            "text/html": [
              "<div>\n",
              "<style scoped>\n",
              "    .dataframe tbody tr th:only-of-type {\n",
              "        vertical-align: middle;\n",
              "    }\n",
              "\n",
              "    .dataframe tbody tr th {\n",
              "        vertical-align: top;\n",
              "    }\n",
              "\n",
              "    .dataframe thead th {\n",
              "        text-align: right;\n",
              "    }\n",
              "</style>\n",
              "<table border=\"1\" class=\"dataframe\">\n",
              "  <thead>\n",
              "    <tr style=\"text-align: right;\">\n",
              "      <th></th>\n",
              "      <th>Unnamed: 0</th>\n",
              "      <th>date</th>\n",
              "      <th>screen_name</th>\n",
              "      <th>tweet</th>\n",
              "      <th>tweet_id</th>\n",
              "      <th>user_location</th>\n",
              "    </tr>\n",
              "  </thead>\n",
              "  <tbody>\n",
              "    <tr>\n",
              "      <th>0</th>\n",
              "      <td>0.0</td>\n",
              "      <td>2019-06-14 23:42:59</td>\n",
              "      <td>ChronosCap</td>\n",
              "      <td>The only thing missing from the #BeyondMeat ep...</td>\n",
              "      <td>1.1396796570563584e+18</td>\n",
              "      <td>Milky Way ✨</td>\n",
              "    </tr>\n",
              "    <tr>\n",
              "      <th>1</th>\n",
              "      <td>1.0</td>\n",
              "      <td>2019-06-14 20:04:15</td>\n",
              "      <td>erich_strasser</td>\n",
              "      <td>Red Robin Investor Eyes Beyond Meat’s Gains, S...</td>\n",
              "      <td>1.1396246133343068e+18</td>\n",
              "      <td>Österreich</td>\n",
              "    </tr>\n",
              "    <tr>\n",
              "      <th>2</th>\n",
              "      <td>2.0</td>\n",
              "      <td>2019-06-14 16:16:54</td>\n",
              "      <td>IBD_MLarkin</td>\n",
              "      <td>#BeyondMeat Rallies As Fake Meat Rival #Imposs...</td>\n",
              "      <td>1.1395673982629888e+18</td>\n",
              "      <td>NaN</td>\n",
              "    </tr>\n",
              "    <tr>\n",
              "      <th>3</th>\n",
              "      <td>3.0</td>\n",
              "      <td>2019-06-14 17:20:43</td>\n",
              "      <td>PURISfoods</td>\n",
              "      <td>Ever wonder what the future of food looks like...</td>\n",
              "      <td>1.1395834576869581e+18</td>\n",
              "      <td>Minneapolis, MN</td>\n",
              "    </tr>\n",
              "    <tr>\n",
              "      <th>4</th>\n",
              "      <td>4.0</td>\n",
              "      <td>2019-06-14 16:00:40</td>\n",
              "      <td>ParagonAlert</td>\n",
              "      <td>This year's #IPO \"unicorns\" are #BeyondMeat, #...</td>\n",
              "      <td>1.1395633119750595e+18</td>\n",
              "      <td>Hoboken, NJ</td>\n",
              "    </tr>\n",
              "    <tr>\n",
              "      <th>...</th>\n",
              "      <td>...</td>\n",
              "      <td>...</td>\n",
              "      <td>...</td>\n",
              "      <td>...</td>\n",
              "      <td>...</td>\n",
              "      <td>...</td>\n",
              "    </tr>\n",
              "    <tr>\n",
              "      <th>5268</th>\n",
              "      <td>15.0</td>\n",
              "      <td>2019-01-02 13:50:35</td>\n",
              "      <td>michaelwolf</td>\n",
              "      <td>Beyond Meat Cooks Up Fast Food Partnership wit...</td>\n",
              "      <td>1.080461352613761e+18</td>\n",
              "      <td>Seattle</td>\n",
              "    </tr>\n",
              "    <tr>\n",
              "      <th>5269</th>\n",
              "      <td>16.0</td>\n",
              "      <td>2019-01-02 18:59:33</td>\n",
              "      <td>juliedabrusin</td>\n",
              "      <td>@sofeecee @AWCanada Interesting. I was just ha...</td>\n",
              "      <td>1.0805391085760553e+18</td>\n",
              "      <td>NaN</td>\n",
              "    </tr>\n",
              "    <tr>\n",
              "      <th>5270</th>\n",
              "      <td>17.0</td>\n",
              "      <td>2019-01-01 21:49:30</td>\n",
              "      <td>FRANKYBANANAS</td>\n",
              "      <td>A couple hours after my run I was starving! Sh...</td>\n",
              "      <td>1.0802194875996815e+18</td>\n",
              "      <td>Orange County, CA</td>\n",
              "    </tr>\n",
              "    <tr>\n",
              "      <th>5271</th>\n",
              "      <td>18.0</td>\n",
              "      <td>2019-01-02 02:11:54</td>\n",
              "      <td>Cherrypie_9</td>\n",
              "      <td>#beyondmeat I had the best New Years last nigh...</td>\n",
              "      <td>1.0802855255613604e+18</td>\n",
              "      <td>NaN</td>\n",
              "    </tr>\n",
              "    <tr>\n",
              "      <th>5272</th>\n",
              "      <td>19.0</td>\n",
              "      <td>2019-01-02 16:21:45</td>\n",
              "      <td>juhanilohikoski</td>\n",
              "      <td>#Beyondmeat burger Classic American dinnerissa...</td>\n",
              "      <td>1.0804993960207483e+18</td>\n",
              "      <td>Finland Kerava</td>\n",
              "    </tr>\n",
              "  </tbody>\n",
              "</table>\n",
              "<p>5273 rows × 6 columns</p>\n",
              "</div>"
            ],
            "text/plain": [
              "      Unnamed: 0  ...      user_location\n",
              "0            0.0  ...        Milky Way ✨\n",
              "1            1.0  ...         Österreich\n",
              "2            2.0  ...                NaN\n",
              "3            3.0  ...    Minneapolis, MN\n",
              "4            4.0  ...        Hoboken, NJ\n",
              "...          ...  ...                ...\n",
              "5268        15.0  ...            Seattle\n",
              "5269        16.0  ...                NaN\n",
              "5270        17.0  ...  Orange County, CA\n",
              "5271        18.0  ...                NaN\n",
              "5272        19.0  ...     Finland Kerava\n",
              "\n",
              "[5273 rows x 6 columns]"
            ]
          },
          "metadata": {
            "tags": []
          },
          "execution_count": 28
        }
      ]
    },
    {
      "cell_type": "code",
      "metadata": {
        "id": "LTWLEvEgFyWU"
      },
      "source": [
        ""
      ],
      "execution_count": null,
      "outputs": []
    }
  ]
}